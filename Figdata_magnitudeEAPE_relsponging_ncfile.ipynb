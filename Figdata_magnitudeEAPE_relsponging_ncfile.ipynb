{
 "cells": [
  {
   "cell_type": "markdown",
   "id": "fe8f717f-e567-4950-b4d7-f105f02f0cea",
   "metadata": {},
   "source": [
    "# Calculation for EAPE in calculation of total eddy energy to compare to low-order model"
   ]
  },
  {
   "cell_type": "markdown",
   "id": "ba5d4ad6-ad2a-4295-8358-c387d735ce02",
   "metadata": {},
   "source": [
    "\\begin{equation} \\frac{dE}{dt} = \\mathcal X E  \\end{equation}\n",
    "\\begin{equation}  \\rightarrow E = e^{\\pm i \\omega t} \\text{    where   } \\omega = \\sqrt{ab/2} \\end{equation}"
   ]
  },
  {
   "cell_type": "code",
   "execution_count": 9,
   "id": "db864ec1-9feb-4ffb-8365-4043ec52f20f",
   "metadata": {
    "tags": []
   },
   "outputs": [],
   "source": [
    "import numpy as np\n",
    "from matplotlib import rc\n",
    "rc('text', usetex=True)\n",
    "rc('xtick', labelsize=26) #20 \n",
    "rc('ytick', labelsize=26) #20\n",
    "rc('axes', titlesize=26)    # fontsize of the axes title\n",
    "rc('axes', labelsize=26) #24  \n",
    "rc('font', **{'size':26})\n",
    "import matplotlib.pyplot as plt"
   ]
  },
  {
   "cell_type": "code",
   "execution_count": 1,
   "id": "26b9e4f7-2bde-478f-a40a-67339f59430f",
   "metadata": {
    "tags": []
   },
   "outputs": [],
   "source": [
    "import xarray as xr\n",
    "import netCDF4 as nc"
   ]
  },
  {
   "cell_type": "code",
   "execution_count": 2,
   "id": "9c82a90a-ef97-49fd-9d9e-31b21d7bce5c",
   "metadata": {
    "tags": []
   },
   "outputs": [
    {
     "name": "stderr",
     "output_type": "stream",
     "text": [
      "/g/data/hh5/public/apps/miniconda3/envs/analysis3-23.07/lib/python3.10/site-packages/distributed/node.py:182: UserWarning: Port 8787 is already in use.\n",
      "Perhaps you already have a cluster running?\n",
      "Hosting the HTTP server on port 45681 instead\n",
      "  warnings.warn(\n"
     ]
    },
    {
     "data": {
      "text/html": [
       "<div>\n",
       "    <div style=\"width: 24px; height: 24px; background-color: #e1e1e1; border: 3px solid #9D9D9D; border-radius: 5px; position: absolute;\"> </div>\n",
       "    <div style=\"margin-left: 48px;\">\n",
       "        <h3 style=\"margin-bottom: 0px;\">Client</h3>\n",
       "        <p style=\"color: #9D9D9D; margin-bottom: 0px;\">Client-98eed8d3-e01e-11ee-9343-0000079cfe80</p>\n",
       "        <table style=\"width: 100%; text-align: left;\">\n",
       "\n",
       "        <tr>\n",
       "        \n",
       "            <td style=\"text-align: left;\"><strong>Connection method:</strong> Cluster object</td>\n",
       "            <td style=\"text-align: left;\"><strong>Cluster type:</strong> distributed.LocalCluster</td>\n",
       "        \n",
       "        </tr>\n",
       "\n",
       "        \n",
       "            <tr>\n",
       "                <td style=\"text-align: left;\">\n",
       "                    <strong>Dashboard: </strong> <a href=\"/proxy/45681/status\" target=\"_blank\">/proxy/45681/status</a>\n",
       "                </td>\n",
       "                <td style=\"text-align: left;\"></td>\n",
       "            </tr>\n",
       "        \n",
       "\n",
       "        </table>\n",
       "\n",
       "        \n",
       "            <button style=\"margin-bottom: 12px;\" data-commandlinker-command=\"dask:populate-and-launch-layout\" data-commandlinker-args='{\"url\": \"/proxy/45681/status\" }'>\n",
       "                Launch dashboard in JupyterLab\n",
       "            </button>\n",
       "        \n",
       "\n",
       "        \n",
       "            <details>\n",
       "            <summary style=\"margin-bottom: 20px;\"><h3 style=\"display: inline;\">Cluster Info</h3></summary>\n",
       "            <div class=\"jp-RenderedHTMLCommon jp-RenderedHTML jp-mod-trusted jp-OutputArea-output\">\n",
       "    <div style=\"width: 24px; height: 24px; background-color: #e1e1e1; border: 3px solid #9D9D9D; border-radius: 5px; position: absolute;\">\n",
       "    </div>\n",
       "    <div style=\"margin-left: 48px;\">\n",
       "        <h3 style=\"margin-bottom: 0px; margin-top: 0px;\">LocalCluster</h3>\n",
       "        <p style=\"color: #9D9D9D; margin-bottom: 0px;\">62dd7978</p>\n",
       "        <table style=\"width: 100%; text-align: left;\">\n",
       "            <tr>\n",
       "                <td style=\"text-align: left;\">\n",
       "                    <strong>Dashboard:</strong> <a href=\"/proxy/45681/status\" target=\"_blank\">/proxy/45681/status</a>\n",
       "                </td>\n",
       "                <td style=\"text-align: left;\">\n",
       "                    <strong>Workers:</strong> 4\n",
       "                </td>\n",
       "            </tr>\n",
       "            <tr>\n",
       "                <td style=\"text-align: left;\">\n",
       "                    <strong>Total threads:</strong> 4\n",
       "                </td>\n",
       "                <td style=\"text-align: left;\">\n",
       "                    <strong>Total memory:</strong> 250.00 GiB\n",
       "                </td>\n",
       "            </tr>\n",
       "            \n",
       "            <tr>\n",
       "    <td style=\"text-align: left;\"><strong>Status:</strong> running</td>\n",
       "    <td style=\"text-align: left;\"><strong>Using processes:</strong> True</td>\n",
       "</tr>\n",
       "\n",
       "            \n",
       "        </table>\n",
       "\n",
       "        <details>\n",
       "            <summary style=\"margin-bottom: 20px;\">\n",
       "                <h3 style=\"display: inline;\">Scheduler Info</h3>\n",
       "            </summary>\n",
       "\n",
       "            <div style=\"\">\n",
       "    <div>\n",
       "        <div style=\"width: 24px; height: 24px; background-color: #FFF7E5; border: 3px solid #FF6132; border-radius: 5px; position: absolute;\"> </div>\n",
       "        <div style=\"margin-left: 48px;\">\n",
       "            <h3 style=\"margin-bottom: 0px;\">Scheduler</h3>\n",
       "            <p style=\"color: #9D9D9D; margin-bottom: 0px;\">Scheduler-4e666990-94b3-40fc-9f0a-3fc87512c306</p>\n",
       "            <table style=\"width: 100%; text-align: left;\">\n",
       "                <tr>\n",
       "                    <td style=\"text-align: left;\">\n",
       "                        <strong>Comm:</strong> tcp://127.0.0.1:37059\n",
       "                    </td>\n",
       "                    <td style=\"text-align: left;\">\n",
       "                        <strong>Workers:</strong> 4\n",
       "                    </td>\n",
       "                </tr>\n",
       "                <tr>\n",
       "                    <td style=\"text-align: left;\">\n",
       "                        <strong>Dashboard:</strong> <a href=\"/proxy/45681/status\" target=\"_blank\">/proxy/45681/status</a>\n",
       "                    </td>\n",
       "                    <td style=\"text-align: left;\">\n",
       "                        <strong>Total threads:</strong> 4\n",
       "                    </td>\n",
       "                </tr>\n",
       "                <tr>\n",
       "                    <td style=\"text-align: left;\">\n",
       "                        <strong>Started:</strong> Just now\n",
       "                    </td>\n",
       "                    <td style=\"text-align: left;\">\n",
       "                        <strong>Total memory:</strong> 250.00 GiB\n",
       "                    </td>\n",
       "                </tr>\n",
       "            </table>\n",
       "        </div>\n",
       "    </div>\n",
       "\n",
       "    <details style=\"margin-left: 48px;\">\n",
       "        <summary style=\"margin-bottom: 20px;\">\n",
       "            <h3 style=\"display: inline;\">Workers</h3>\n",
       "        </summary>\n",
       "\n",
       "        \n",
       "        <div style=\"margin-bottom: 20px;\">\n",
       "            <div style=\"width: 24px; height: 24px; background-color: #DBF5FF; border: 3px solid #4CC9FF; border-radius: 5px; position: absolute;\"> </div>\n",
       "            <div style=\"margin-left: 48px;\">\n",
       "            <details>\n",
       "                <summary>\n",
       "                    <h4 style=\"margin-bottom: 0px; display: inline;\">Worker: 0</h4>\n",
       "                </summary>\n",
       "                <table style=\"width: 100%; text-align: left;\">\n",
       "                    <tr>\n",
       "                        <td style=\"text-align: left;\">\n",
       "                            <strong>Comm: </strong> tcp://127.0.0.1:32779\n",
       "                        </td>\n",
       "                        <td style=\"text-align: left;\">\n",
       "                            <strong>Total threads: </strong> 1\n",
       "                        </td>\n",
       "                    </tr>\n",
       "                    <tr>\n",
       "                        <td style=\"text-align: left;\">\n",
       "                            <strong>Dashboard: </strong> <a href=\"/proxy/43643/status\" target=\"_blank\">/proxy/43643/status</a>\n",
       "                        </td>\n",
       "                        <td style=\"text-align: left;\">\n",
       "                            <strong>Memory: </strong> 62.50 GiB\n",
       "                        </td>\n",
       "                    </tr>\n",
       "                    <tr>\n",
       "                        <td style=\"text-align: left;\">\n",
       "                            <strong>Nanny: </strong> tcp://127.0.0.1:33563\n",
       "                        </td>\n",
       "                        <td style=\"text-align: left;\"></td>\n",
       "                    </tr>\n",
       "                    <tr>\n",
       "                        <td colspan=\"2\" style=\"text-align: left;\">\n",
       "                            <strong>Local directory: </strong> /scratch/e14/qo9901/dask-scratch-space/worker-f45xizbj\n",
       "                        </td>\n",
       "                    </tr>\n",
       "\n",
       "                    \n",
       "\n",
       "                    \n",
       "\n",
       "                </table>\n",
       "            </details>\n",
       "            </div>\n",
       "        </div>\n",
       "        \n",
       "        <div style=\"margin-bottom: 20px;\">\n",
       "            <div style=\"width: 24px; height: 24px; background-color: #DBF5FF; border: 3px solid #4CC9FF; border-radius: 5px; position: absolute;\"> </div>\n",
       "            <div style=\"margin-left: 48px;\">\n",
       "            <details>\n",
       "                <summary>\n",
       "                    <h4 style=\"margin-bottom: 0px; display: inline;\">Worker: 1</h4>\n",
       "                </summary>\n",
       "                <table style=\"width: 100%; text-align: left;\">\n",
       "                    <tr>\n",
       "                        <td style=\"text-align: left;\">\n",
       "                            <strong>Comm: </strong> tcp://127.0.0.1:34325\n",
       "                        </td>\n",
       "                        <td style=\"text-align: left;\">\n",
       "                            <strong>Total threads: </strong> 1\n",
       "                        </td>\n",
       "                    </tr>\n",
       "                    <tr>\n",
       "                        <td style=\"text-align: left;\">\n",
       "                            <strong>Dashboard: </strong> <a href=\"/proxy/43241/status\" target=\"_blank\">/proxy/43241/status</a>\n",
       "                        </td>\n",
       "                        <td style=\"text-align: left;\">\n",
       "                            <strong>Memory: </strong> 62.50 GiB\n",
       "                        </td>\n",
       "                    </tr>\n",
       "                    <tr>\n",
       "                        <td style=\"text-align: left;\">\n",
       "                            <strong>Nanny: </strong> tcp://127.0.0.1:45407\n",
       "                        </td>\n",
       "                        <td style=\"text-align: left;\"></td>\n",
       "                    </tr>\n",
       "                    <tr>\n",
       "                        <td colspan=\"2\" style=\"text-align: left;\">\n",
       "                            <strong>Local directory: </strong> /scratch/e14/qo9901/dask-scratch-space/worker-8ewkiu19\n",
       "                        </td>\n",
       "                    </tr>\n",
       "\n",
       "                    \n",
       "\n",
       "                    \n",
       "\n",
       "                </table>\n",
       "            </details>\n",
       "            </div>\n",
       "        </div>\n",
       "        \n",
       "        <div style=\"margin-bottom: 20px;\">\n",
       "            <div style=\"width: 24px; height: 24px; background-color: #DBF5FF; border: 3px solid #4CC9FF; border-radius: 5px; position: absolute;\"> </div>\n",
       "            <div style=\"margin-left: 48px;\">\n",
       "            <details>\n",
       "                <summary>\n",
       "                    <h4 style=\"margin-bottom: 0px; display: inline;\">Worker: 2</h4>\n",
       "                </summary>\n",
       "                <table style=\"width: 100%; text-align: left;\">\n",
       "                    <tr>\n",
       "                        <td style=\"text-align: left;\">\n",
       "                            <strong>Comm: </strong> tcp://127.0.0.1:41203\n",
       "                        </td>\n",
       "                        <td style=\"text-align: left;\">\n",
       "                            <strong>Total threads: </strong> 1\n",
       "                        </td>\n",
       "                    </tr>\n",
       "                    <tr>\n",
       "                        <td style=\"text-align: left;\">\n",
       "                            <strong>Dashboard: </strong> <a href=\"/proxy/39285/status\" target=\"_blank\">/proxy/39285/status</a>\n",
       "                        </td>\n",
       "                        <td style=\"text-align: left;\">\n",
       "                            <strong>Memory: </strong> 62.50 GiB\n",
       "                        </td>\n",
       "                    </tr>\n",
       "                    <tr>\n",
       "                        <td style=\"text-align: left;\">\n",
       "                            <strong>Nanny: </strong> tcp://127.0.0.1:46767\n",
       "                        </td>\n",
       "                        <td style=\"text-align: left;\"></td>\n",
       "                    </tr>\n",
       "                    <tr>\n",
       "                        <td colspan=\"2\" style=\"text-align: left;\">\n",
       "                            <strong>Local directory: </strong> /scratch/e14/qo9901/dask-scratch-space/worker-w_aicgzu\n",
       "                        </td>\n",
       "                    </tr>\n",
       "\n",
       "                    \n",
       "\n",
       "                    \n",
       "\n",
       "                </table>\n",
       "            </details>\n",
       "            </div>\n",
       "        </div>\n",
       "        \n",
       "        <div style=\"margin-bottom: 20px;\">\n",
       "            <div style=\"width: 24px; height: 24px; background-color: #DBF5FF; border: 3px solid #4CC9FF; border-radius: 5px; position: absolute;\"> </div>\n",
       "            <div style=\"margin-left: 48px;\">\n",
       "            <details>\n",
       "                <summary>\n",
       "                    <h4 style=\"margin-bottom: 0px; display: inline;\">Worker: 3</h4>\n",
       "                </summary>\n",
       "                <table style=\"width: 100%; text-align: left;\">\n",
       "                    <tr>\n",
       "                        <td style=\"text-align: left;\">\n",
       "                            <strong>Comm: </strong> tcp://127.0.0.1:40397\n",
       "                        </td>\n",
       "                        <td style=\"text-align: left;\">\n",
       "                            <strong>Total threads: </strong> 1\n",
       "                        </td>\n",
       "                    </tr>\n",
       "                    <tr>\n",
       "                        <td style=\"text-align: left;\">\n",
       "                            <strong>Dashboard: </strong> <a href=\"/proxy/43691/status\" target=\"_blank\">/proxy/43691/status</a>\n",
       "                        </td>\n",
       "                        <td style=\"text-align: left;\">\n",
       "                            <strong>Memory: </strong> 62.50 GiB\n",
       "                        </td>\n",
       "                    </tr>\n",
       "                    <tr>\n",
       "                        <td style=\"text-align: left;\">\n",
       "                            <strong>Nanny: </strong> tcp://127.0.0.1:33079\n",
       "                        </td>\n",
       "                        <td style=\"text-align: left;\"></td>\n",
       "                    </tr>\n",
       "                    <tr>\n",
       "                        <td colspan=\"2\" style=\"text-align: left;\">\n",
       "                            <strong>Local directory: </strong> /scratch/e14/qo9901/dask-scratch-space/worker-az359amg\n",
       "                        </td>\n",
       "                    </tr>\n",
       "\n",
       "                    \n",
       "\n",
       "                    \n",
       "\n",
       "                </table>\n",
       "            </details>\n",
       "            </div>\n",
       "        </div>\n",
       "        \n",
       "\n",
       "    </details>\n",
       "</div>\n",
       "\n",
       "        </details>\n",
       "    </div>\n",
       "</div>\n",
       "            </details>\n",
       "        \n",
       "\n",
       "    </div>\n",
       "</div>"
      ],
      "text/plain": [
       "<Client: 'tcp://127.0.0.1:37059' processes=4 threads=4, memory=250.00 GiB>"
      ]
     },
     "execution_count": 2,
     "metadata": {},
     "output_type": "execute_result"
    }
   ],
   "source": [
    "from dask.distributed import Client\n",
    "\n",
    "c=Client(local_directory = '/scratch/e14/qo9901/') \n",
    "c "
   ]
  },
  {
   "cell_type": "code",
   "execution_count": 3,
   "id": "745e56d5-686b-4f58-b441-e674569b369d",
   "metadata": {
    "tags": []
   },
   "outputs": [
    {
     "data": {
      "text/plain": [
       "{'tcp://127.0.0.1:32779': 56,\n",
       " 'tcp://127.0.0.1:34325': 56,\n",
       " 'tcp://127.0.0.1:40397': 56,\n",
       " 'tcp://127.0.0.1:41203': 56}"
      ]
     },
     "execution_count": 3,
     "metadata": {},
     "output_type": "execute_result"
    }
   ],
   "source": [
    "import gc\n",
    "c.run(gc.collect)"
   ]
  },
  {
   "cell_type": "markdown",
   "id": "429ce5f4-0158-4977-9e43-f1ed62efa839",
   "metadata": {},
   "source": [
    "## Calculating Available potential energy \n",
    "\n",
    "$ APE  = \\int^{L_y}_0 \\frac{1}{2}\\rho_0 g' \\eta^2 \\, \\mathrm{d}y $\n",
    "\n",
    "where $\\eta$ is the interface height that varies in the two layer system. Now we want:\n",
    "\n",
    "$ APE  = \\sum_i \\int^{L_y}_0 \\frac{1}{2}\\rho_0 g' \\eta_i^2 \\, \\mathrm{d}y $\n",
    "\n",
    " summing over layer interfaces i\n",
    " \n",
    " Selecting only the CDW layer, we measure eta relative to the sponged interface height of CDw on the northern boundary. Here we take a deepening of the isopycnal relative to the sponged interface height as an increase in eta, as the increase in potential energy occur when the isopycnal is deepened relative to the sponged interface."
   ]
  },
  {
   "cell_type": "code",
   "execution_count": 14,
   "id": "e319d83f-baea-4eac-8e3a-258ca7a48dd1",
   "metadata": {
    "tags": []
   },
   "outputs": [
    {
     "name": "stdout",
     "output_type": "stream",
     "text": [
      "<xarray.DataArray 'e' (Time: 7300, zi: 5, yh: 150, xh: 1000)>\n",
      "dask.array<getitem, shape=(7300, 5, 150, 1000), dtype=float32, chunksize=(20, 5, 150, 1000), chunktype=numpy.ndarray>\n",
      "Coordinates:\n",
      "  * yh       (yh) float64 -49.5 -48.5 -47.5 -46.5 -45.5 ... 96.5 97.5 98.5 99.5\n",
      "  * Time     (Time) float64 51.0 51.0 51.01 51.01 ... 70.99 70.99 71.0 71.0\n",
      "  * xh       (xh) float64 -499.5 -498.5 -497.5 -496.5 ... 497.5 498.5 499.5\n",
      "  * zi       (zi) float64 1.028e+03 1.028e+03 1.028e+03 1.028e+03 1.028e+03\n",
      "Attributes:\n",
      "    units:          m\n",
      "    long_name:      Interface Height Relative to Mean Sea Level\n",
      "    cell_methods:   area:mean zi:point yh:mean xh:mean time: mean\n",
      "    time_avg_info:  average_T1,average_T2,average_DT\n",
      "623.647\n",
      "<xarray.DataArray 'e' (Time: 7300, yh: 120, xh: 1000)>\n",
      "dask.array<sub, shape=(7300, 120, 1000), dtype=float32, chunksize=(20, 120, 1000), chunktype=numpy.ndarray>\n",
      "Coordinates:\n",
      "  * yh       (yh) float64 -19.5 -18.5 -17.5 -16.5 -15.5 ... 96.5 97.5 98.5 99.5\n",
      "  * Time     (Time) float64 51.0 51.0 51.01 51.01 ... 70.99 70.99 71.0 71.0\n",
      "  * xh       (xh) float64 -499.5 -498.5 -497.5 -496.5 ... 497.5 498.5 499.5\n",
      "    zi       float64 1.028e+03\n"
     ]
    }
   ],
   "source": [
    "folder = '/scratch/v45/qo9901/mom6/archive/4layer_fresh_tau1p0e-01_newtopo_canyonSILLSTEEP_nDSW_sig1p0e+02/'\n",
    "t1 = 51\n",
    "t2 = 71\n",
    "FileList = [folder + 'output' + '{0:03}'.format(i) + '/prog_daily.nc' for i in range(t1 ,t2)]\n",
    "dsx_prog_daily = xr.open_mfdataset(FileList, combine='by_coords', chunks={\"Time\": 20}, decode_times=False, preprocess = lambda d: d[['e', 'h','uh','vh']], engine='netcdf4', parallel=True)\n",
    "dsx_prog_daily.coords['Time'] = dsx_prog_daily.coords['Time']/(365)\n",
    "import xgcm\n",
    "grid = xr.open_mfdataset(folder+'output0*/ocean_geometry.nc', combine='by_coords')\n",
    "grid_new = grid.rename({'latq': 'yq','lonq': 'xq','lath': 'yh','lonh': 'xh'})\n",
    "ds = xr.merge([dsx_prog_daily.uh, dsx_prog_daily.vh, grid_new])\n",
    "\n",
    "## making grid\n",
    "ds.coords['xh'].attrs.update(axis='X')\n",
    "ds.coords['xq'].attrs.update(axis='X', c_grid_axis_shift=0.5)\n",
    "ds.coords['yh'].attrs.update(axis='Y')\n",
    "ds.coords['yq'].attrs.update(axis='Y', c_grid_axis_shift=0.5)\n",
    "\n",
    "grid = xgcm.Grid(ds, periodic=['X'])\n",
    "grid\n",
    "\n",
    "### making APE values\n",
    "#H  = dsx_prog_daily.e.sel(yh = slice(-50,100)).mean(dim = 'Time')\n",
    "eta = (dsx_prog_daily.e.sel(yh = slice(-50,100)))#.isel(zi = slice(1,5))\n",
    "print(eta)\n",
    "eta_0 = -dsx_prog_daily.e.isel(zi=2).sel(yh = 250, method = 'nearest').mean(dim = ['xh','Time'])\n",
    "\n",
    "print(eta_0.values)\n",
    "eta_calc = (- eta.isel(zi=2).sel(yh = slice(-20,100)) - eta_0)\n",
    "#eta_calc = (eta_0 + eta.sel(yh = slice(-50,100)))\n",
    "\n",
    "print(eta_calc)"
   ]
  },
  {
   "cell_type": "code",
   "execution_count": 15,
   "id": "c3c067e9-e7a6-4f33-bca2-918d8654f8d0",
   "metadata": {},
   "outputs": [
    {
     "data": {
      "text/plain": [
       "array(192.23006, dtype=float32)"
      ]
     },
     "execution_count": 15,
     "metadata": {},
     "output_type": "execute_result"
    }
   ],
   "source": [
    "eta_calc.mean().values"
   ]
  },
  {
   "cell_type": "code",
   "execution_count": 16,
   "id": "c86ea58d-e438-48b9-964e-e1683836ada1",
   "metadata": {},
   "outputs": [
    {
     "data": {
      "text/plain": [
       "19.5"
      ]
     },
     "execution_count": 16,
     "metadata": {},
     "output_type": "execute_result"
    }
   ],
   "source": [
    "- eta.isel(zi =2).mean(dim= ['xh','Time']).idxmin().values ## choose eta 0 as yh = -19.5"
   ]
  },
  {
   "cell_type": "code",
   "execution_count": 17,
   "id": "6105b58e-e50e-414d-a71f-bac423ae8cee",
   "metadata": {},
   "outputs": [
    {
     "data": {
      "text/plain": [
       "1121.1609"
      ]
     },
     "execution_count": 17,
     "metadata": {},
     "output_type": "execute_result"
    }
   ],
   "source": [
    "- eta.isel(zi =2).mean(dim= ['xh','Time']).min().values ## zi now means something different. check everything"
   ]
  },
  {
   "cell_type": "code",
   "execution_count": 18,
   "id": "e1854981-5db6-42aa-9605-270445afe4f6",
   "metadata": {},
   "outputs": [
    {
     "data": {
      "text/plain": [
       "array(594.3297, dtype=float32)"
      ]
     },
     "execution_count": 18,
     "metadata": {},
     "output_type": "execute_result"
    }
   ],
   "source": [
    "eta_calc = (eta_0 + eta.sel(yh = slice(-50,100)))\n",
    "eta_calc.mean().values"
   ]
  },
  {
   "cell_type": "code",
   "execution_count": 19,
   "id": "e56e8066-1c54-47a9-b3e1-e4aa21f67981",
   "metadata": {},
   "outputs": [
    {
     "data": {
      "text/plain": [
       "array([3.6723754e-01, 1.1437368e+03, 1.5166990e+03, 2.5605930e+03,\n",
       "       2.9547305e+03], dtype=float32)"
      ]
     },
     "execution_count": 19,
     "metadata": {},
     "output_type": "execute_result"
    }
   ],
   "source": [
    "eta_0.values\n"
   ]
  },
  {
   "cell_type": "code",
   "execution_count": 18,
   "id": "3fc0eb99-bc98-4a79-a779-fc2479318882",
   "metadata": {},
   "outputs": [
    {
     "data": {
      "text/plain": [
       "Text(0.5, 1.0, '')"
      ]
     },
     "execution_count": 18,
     "metadata": {},
     "output_type": "execute_result"
    },
    {
     "data": {
      "image/png": "[encoded data removed]",
      "text/plain": [
       "<Figure size 432x288 with 1 Axes>"
      ]
     },
     "metadata": {
      "needs_background": "light"
     },
     "output_type": "display_data"
    }
   ],
   "source": [
    "(eta_calc**2).mean(dim = ['xh','yh']).plot()\n",
    "plt.title('')"
   ]
  },
  {
   "cell_type": "markdown",
   "id": "f7dfe9b4-59d0-4ea9-ac06-87ebcb94cf48",
   "metadata": {},
   "source": [
    "# EAPE calculation\n",
    "$\\eta_d'$ used in EAPE calculation is \n",
    "$\\eta_d' = \\eta - \\overline{\\eta_d}$, \n",
    "\n",
    "where $\\overline{\\eta_d}$ is the time mean of the deviation of inteface height from the sponging interface height\n",
    " i.e. $\\overline{\\eta_d} = \\overline{\\eta - \\eta_0}$\n",
    " "
   ]
  },
  {
   "cell_type": "code",
   "execution_count": 4,
   "id": "790d63b8-72ae-484a-9d0a-8966af6968e7",
   "metadata": {},
   "outputs": [],
   "source": [
    "def timeseriesEAPE_eta0_relsponging(folder, t1, t2):\n",
    "    import gc\n",
    "    ## importing files\n",
    "    FileList = [folder + 'output' + '{0:03}'.format(i) + '/prog_daily.nc' for i in range(t1 ,t2)]\n",
    "    dsx_prog_daily = xr.open_mfdataset(FileList, combine='by_coords', chunks={\"Time\": 20}, decode_times=False, preprocess = lambda d: d[['e', 'h','uh','vh']], engine='netcdf4', parallel=True)\n",
    "    dsx_prog_daily.coords['Time'] = dsx_prog_daily.coords['Time']/(365)\n",
    "    import xgcm\n",
    "    grid = xr.open_mfdataset(folder+'output0*/ocean_geometry.nc', combine='by_coords')\n",
    "    grid_new = grid.rename({'latq': 'yq','lonq': 'xq','lath': 'yh','lonh': 'xh'})\n",
    "    ds = xr.merge([dsx_prog_daily.uh, dsx_prog_daily.vh, grid_new])\n",
    "\n",
    "    ## making grid\n",
    "    ds.coords['xh'].attrs.update(axis='X')\n",
    "    ds.coords['xq'].attrs.update(axis='X', c_grid_axis_shift=0.5)\n",
    "    ds.coords['yh'].attrs.update(axis='Y')\n",
    "    ds.coords['yq'].attrs.update(axis='Y', c_grid_axis_shift=0.5)\n",
    "\n",
    "    grid = xgcm.Grid(ds, periodic=['X'])\n",
    "    grid\n",
    "    \n",
    "    \n",
    "    H  = dsx_prog_daily.e.sel(yh = slice(-50,100)).mean(dim = 'Time')\n",
    "    eta = (dsx_prog_daily.e.sel(yh = slice(-50,100)) - H)#.isel(zi = slice(1,5))\n",
    "    rho_layer = [1027.8, 1028.0,1028.1,1028.3]\n",
    "    g = 9.81\n",
    "    rho_p = np.asarray([g*(rho_layer[1] - rho_layer[0]),g*(rho_layer[2] - rho_layer[1]), g*(rho_layer[3]-rho_layer[2])])/rho_layer[0]\n",
    "    APE_cdw = 0.5 * rho_layer[0] * ( rho_p[1] * eta.isel(zi = 2)**2)\n",
    "    APE_cdw_sum = APE_cdw.sum(dim = 'yh').sum(dim = 'xh')\n",
    "    print('MAPE loading ..')\n",
    "    c.run(gc.collect)\n",
    "    print('saved in ')\n",
    "    return APE_cdw_sum\n"
   ]
  },
  {
   "cell_type": "code",
   "execution_count": 16,
   "id": "fbc8ab0d-6867-4814-9d9b-ac7732e7f190",
   "metadata": {
    "scrolled": true,
    "tags": []
   },
   "outputs": [
    {
     "name": "stdout",
     "output_type": "stream",
     "text": [
      "MAPE loading ..\n",
      "saved in \n"
     ]
    }
   ],
   "source": [
    "APE_cdw = timeseriesEAPE_eta0_relsponging('/scratch/v45/qo9901/mom6/archive/4layer_fresh_tau1p0e-01_newtopo_canyonSILLSTEEP_nDSW_sig1p0e+02/', 51,71)\n",
    "APE_cdw.to_netcdf(path='4layer_fresh_tau1p0e-01_newtopo_canyonSILLSTEEP_nDSW_sig1p0e+02_EAPE_cdwonly_relsponging.nc')\n"
   ]
  },
  {
   "cell_type": "code",
   "execution_count": null,
   "id": "77d6883f-00e4-446b-8511-da75333c75d3",
   "metadata": {},
   "outputs": [],
   "source": [
    "APE_cdw"
   ]
  },
  {
   "cell_type": "code",
   "execution_count": 17,
   "id": "5098de04-e52e-4fd4-89c5-cc8b77d901cd",
   "metadata": {},
   "outputs": [
    {
     "data": {
      "text/plain": [
       "Text(0.5, 1.0, '')"
      ]
     },
     "execution_count": 17,
     "metadata": {},
     "output_type": "execute_result"
    },
    {
     "data": {
      "image/png": "[encoded data removed]",
      "text/plain": [
       "<Figure size 432x288 with 1 Axes>"
      ]
     },
     "metadata": {
      "needs_background": "light"
     },
     "output_type": "display_data"
    }
   ],
   "source": [
    "APE_cdw.plot()\n",
    "plt.title('')"
   ]
  },
  {
   "cell_type": "code",
   "execution_count": 18,
   "id": "c6cf1f5d-c9a4-45e1-aca8-801bd6f90392",
   "metadata": {
    "scrolled": true,
    "tags": []
   },
   "outputs": [
    {
     "name": "stdout",
     "output_type": "stream",
     "text": [
      "MAPE loading ..\n",
      "saved in \n"
     ]
    }
   ],
   "source": [
    "APE_cdw = timeseriesEAPE_eta0_relsponging('/scratch/v45/qo9901/mom6/archive/4layer_fresh_tau1p0e-01_canyonSTEEP_nDSW_sig1p0e+02_cdrag1p5e-03/', 20,40)\n",
    "APE_cdw.to_netcdf(path='4layer_fresh_tau1p0e-01_canyonSTEEP_nDSW_sig1p0e+02_cdrag1p5e-03_EAPE_cdwonly_relsponging.nc')\n"
   ]
  },
  {
   "cell_type": "code",
   "execution_count": 27,
   "id": "ea87d045-9f9e-4f13-be47-e5908757a56c",
   "metadata": {},
   "outputs": [
    {
     "name": "stdout",
     "output_type": "stream",
     "text": [
      "MAPE loading ..\n",
      "saved in \n"
     ]
    }
   ],
   "source": [
    "APE_cdw = timeseriesEAPE_eta0_relsponging('/scratch/v45/qo9901/mom6/archive/4layer_fresh_tau1p0e-01_canyonSTEEP_nDSW_sig1p0e+02_cdrag2p4e-03/', 20,40)\n",
    "APE_cdw.to_netcdf(path='4layer_fresh_tau1p0e-01_canyonSTEEP_nDSW_sig1p0e+02_cdrag2p4e-03_EAPE_cdwonly_relsponging.nc')\n"
   ]
  },
  {
   "cell_type": "code",
   "execution_count": 19,
   "id": "98b0a24a-052d-4dce-96af-79738e63c67f",
   "metadata": {
    "scrolled": true,
    "tags": []
   },
   "outputs": [
    {
     "name": "stdout",
     "output_type": "stream",
     "text": [
      "MAPE loading ..\n",
      "saved in \n"
     ]
    }
   ],
   "source": [
    " APE_cdw = timeseriesEAPE_eta0_relsponging('/scratch/v45/qo9901/mom6/archive/4layer_fresh_tau1p0e-01_canyonSTEEP_nDSW_sig1p0e+02_cdrag3p6e-03/', 20,40)\n",
    "APE_cdw.to_netcdf(path='4layer_fresh_tau1p0e-01_canyonSTEEP_nDSW_sig1p0e+02_cdrag3p6e-03_EAPE_cdwonly_relsponging.nc')\n"
   ]
  },
  {
   "cell_type": "code",
   "execution_count": 28,
   "id": "4c04fd00-3ceb-47d5-b81d-ef1e1c0e258e",
   "metadata": {},
   "outputs": [
    {
     "name": "stdout",
     "output_type": "stream",
     "text": [
      "MAPE loading ..\n",
      "saved in \n"
     ]
    }
   ],
   "source": [
    "APE_cdw = timeseriesEAPE_eta0_relsponging('/scratch/v45/qo9901/mom6/archive/4layer_fresh_tau1p0e-01_canyonSTEEP_nDSW_sig1p0e+02_cdrag4p5e-03/', 20,40)\n",
    "APE_cdw.to_netcdf(path='4layer_fresh_tau1p0e-01_canyonSTEEP_nDSW_sig1p0e+02_cdrag4p5e-03_EAPE_cdwonly_relsponging.nc')"
   ]
  },
  {
   "cell_type": "code",
   "execution_count": 20,
   "id": "068bc6eb-b972-42bf-a310-631b78127fc5",
   "metadata": {
    "scrolled": true,
    "tags": []
   },
   "outputs": [
    {
     "name": "stdout",
     "output_type": "stream",
     "text": [
      "MAPE loading ..\n",
      "saved in \n"
     ]
    }
   ],
   "source": [
    "APE_cdw = timeseriesEAPE_eta0_relsponging('/scratch/v45/qo9901/mom6/archive/4layer_fresh_tau1p0e-01_canyonSTEEP_nDSW_sig1p0e+02_cdrag6p0e-03/', 20,40)\n",
    "APE_cdw.to_netcdf(path='4layer_fresh_tau1p0e-01_canyonSTEEP_nDSW_sig1p0e+02_cdrag6p0e-03_EAPE_cdwonly_relsponging.nc')\n"
   ]
  },
  {
   "cell_type": "code",
   "execution_count": 26,
   "id": "255217d2-4167-4f64-9539-b4f14990afd0",
   "metadata": {},
   "outputs": [
    {
     "name": "stdout",
     "output_type": "stream",
     "text": [
      "MAPE loading ..\n",
      "saved in \n"
     ]
    }
   ],
   "source": [
    "APE_cdw = timeseriesEAPE_eta0_relsponging('/scratch/v45/qo9901/mom6/archive/4layer_fresh_tau1p0e-01_newtopo_canyonSILLSTEEP_tau2p5e-02_sig1p0e+02/', 30,50)\n",
    "APE_cdw.to_netcdf(path='4layer_fresh_tau1p0e-01_newtopo_canyonSILLSTEEP_tau2p5e-02_sig1p0e+02_EAPE_cdwonly_relsponging.nc')\n"
   ]
  },
  {
   "cell_type": "code",
   "execution_count": 21,
   "id": "68d3daca-f8ab-4f5f-9d34-a76352fce041",
   "metadata": {},
   "outputs": [
    {
     "name": "stdout",
     "output_type": "stream",
     "text": [
      "MAPE loading ..\n",
      "saved in \n"
     ]
    }
   ],
   "source": [
    "APE_cdw = timeseriesEAPE_eta0_relsponging('/scratch/v45/qo9901/mom6/archive/4layer_fresh_tau1p0e-01_newtopo_canyonSILLSTEEP_tau5p0e-02_sig1p0e+02/', 20,40)\n",
    "APE_cdw.to_netcdf(path='4layer_fresh_tau1p0e-01_newtopo_canyonSILLSTEEP_tau5p0e-02_sig1p0e+02_EAPE_cdwonly_relsponging.nc')\n"
   ]
  },
  {
   "cell_type": "code",
   "execution_count": 24,
   "id": "1851e289-3617-4fb6-b281-9b1c4d6d43da",
   "metadata": {},
   "outputs": [
    {
     "name": "stdout",
     "output_type": "stream",
     "text": [
      "MAPE loading ..\n",
      "saved in \n"
     ]
    }
   ],
   "source": [
    "APE_cdw = timeseriesEAPE_eta0_relsponging('/scratch/v45/qo9901/mom6/archive/4layer_fresh_tau1p0e-01_newtopo_canyonSILLSTEEP_tau7p5e-03_sig1p0e+02/', 20,40)\n",
    "APE_cdw.to_netcdf(path='4layer_fresh_tau1p0e-01_newtopo_canyonSILLSTEEP_tau7p5e-02_sig1p0e+02_EAPE_cdwonly_relsponging.nc')\n"
   ]
  },
  {
   "cell_type": "code",
   "execution_count": 25,
   "id": "badc739b-5031-473e-8495-07deabe2954f",
   "metadata": {},
   "outputs": [
    {
     "name": "stdout",
     "output_type": "stream",
     "text": [
      "MAPE loading ..\n",
      "saved in \n"
     ]
    }
   ],
   "source": [
    "APE_cdw = timeseriesEAPE_eta0_relsponging('/scratch/v45/qo9901/mom6/archive/4layer_fresh_tau1p2e-01_newtopo_canyonSILLSTEEP_nDSW_sig1p0e+02/', 20,40)\n",
    "APE_cdw.to_netcdf(path= '4layer_fresh_tau1p2e-01_newtopo_canyonSILLSTEEP_nDSW_sig1p0e+02_EAPE_cdwonly_relsponging.nc')\n"
   ]
  },
  {
   "cell_type": "code",
   "execution_count": null,
   "id": "61bad218-6abd-48b0-9108-aeb93aa1a112",
   "metadata": {},
   "outputs": [],
   "source": []
  },
  {
   "cell_type": "code",
   "execution_count": null,
   "id": "90c6bf10-ce37-4119-a036-7d4e62974028",
   "metadata": {},
   "outputs": [],
   "source": []
  }
 ],
 "metadata": {
  "kernelspec": {
   "display_name": "Python 3 (ipykernel)",
   "language": "python",
   "name": "python3"
  },
  "language_info": {
   "codemirror_mode": {
    "name": "ipython",
    "version": 3
   },
   "file_extension": ".py",
   "mimetype": "text/x-python",
   "name": "python",
   "nbconvert_exporter": "python",
   "pygments_lexer": "ipython3",
   "version": "3.10.13"
  }
 },
 "nbformat": 4,
 "nbformat_minor": 5
}
